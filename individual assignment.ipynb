{
 "cells": [
  {
   "cell_type": "code",
   "execution_count": 1,
   "metadata": {},
   "outputs": [],
   "source": [
    "import numpy as np\n",
    "import pandas as pd\n",
    "import json\n",
    "data1=open('churn_survey.json')\n",
    "data1_str=data1.read()\n",
    "data=json.loads(data1_str)"
   ]
  },
  {
   "cell_type": "code",
   "execution_count": 2,
   "metadata": {},
   "outputs": [
    {
     "name": "stdout",
     "output_type": "stream",
     "text": [
      "Electronic check\n"
     ]
    }
   ],
   "source": [
    "#Q1.1\n",
    "data_1=pd.DataFrame(data)\n",
    "dataone=data_1['PaymentMethod'].value_counts()\n",
    "dataone=dataone.reset_index()\n",
    "print(dataone.iloc[0,0])"
   ]
  },
  {
   "cell_type": "code",
   "execution_count": 6,
   "metadata": {},
   "outputs": [
    {
     "name": "stdout",
     "output_type": "stream",
     "text": [
      "Churn\n",
      "No     61.113471\n",
      "Yes    74.652519\n",
      "Name: MonthlyCharges, dtype: float64\n"
     ]
    }
   ],
   "source": [
    "#Q1.2\n",
    "data2=data_1.groupby('Churn').mean()['MonthlyCharges']\n",
    "print(data2)"
   ]
  },
  {
   "cell_type": "code",
   "execution_count": 7,
   "metadata": {
    "scrolled": true
   },
   "outputs": [
    {
     "name": "stdout",
     "output_type": "stream",
     "text": [
      "Churn\n",
      "No     31.145963\n",
      "Yes    25.064977\n",
      "Name: MonthlyCharges, dtype: float64\n"
     ]
    }
   ],
   "source": [
    "#Q1.3\n",
    "data3=data_1.groupby('Churn').std()['MonthlyCharges']\n",
    "print(data3)"
   ]
  },
  {
   "cell_type": "code",
   "execution_count": 243,
   "metadata": {},
   "outputs": [
    {
     "data": {
      "text/html": [
       "<div>\n",
       "<style scoped>\n",
       "    .dataframe tbody tr th:only-of-type {\n",
       "        vertical-align: middle;\n",
       "    }\n",
       "\n",
       "    .dataframe tbody tr th {\n",
       "        vertical-align: top;\n",
       "    }\n",
       "\n",
       "    .dataframe thead th {\n",
       "        text-align: right;\n",
       "    }\n",
       "</style>\n",
       "<table border=\"1\" class=\"dataframe\">\n",
       "  <thead>\n",
       "    <tr style=\"text-align: right;\">\n",
       "      <th></th>\n",
       "      <th>Churn</th>\n",
       "      <th>Month-to-Month</th>\n",
       "      <th>One year</th>\n",
       "      <th>Two year</th>\n",
       "    </tr>\n",
       "  </thead>\n",
       "  <tbody>\n",
       "    <tr>\n",
       "      <th>0</th>\n",
       "      <td>no</td>\n",
       "      <td>43.87</td>\n",
       "      <td>25.01</td>\n",
       "      <td>31.12</td>\n",
       "    </tr>\n",
       "    <tr>\n",
       "      <th>1</th>\n",
       "      <td>yes</td>\n",
       "      <td>88.53</td>\n",
       "      <td>8.36</td>\n",
       "      <td>3.11</td>\n",
       "    </tr>\n",
       "  </tbody>\n",
       "</table>\n",
       "</div>"
      ],
      "text/plain": [
       "  Churn  Month-to-Month  One year  Two year\n",
       "0    no           43.87     25.01     31.12\n",
       "1   yes           88.53      8.36      3.11"
      ]
     },
     "execution_count": 243,
     "metadata": {},
     "output_type": "execute_result"
    }
   ],
   "source": [
    "#Q1.4\n",
    "column_index=[0,1]\n",
    "data4=data_1.iloc[:,column_index]\n",
    "data4=data4.groupby('Churn')\n",
    "data4=data4['Contract'].value_counts()\n",
    "contract=pd.DataFrame({'Churn':['no','yes'],'Month-to-month':[1135,826],'one year':[647,78],'two year':[805,29]})\n",
    "contract['sum']=contract.sum(axis=1)\n",
    "contract['Month-to-Month']=contract['Month-to-month']/contract['sum']*100\n",
    "contract['One year']=contract['one year']/contract['sum']*100\n",
    "contract['Two year']=contract['two year']/contract['sum']*100\n",
    "column_index=[0,5,6,7]\n",
    "data4=contract.iloc[:,column_index]\n",
    "data4=data4.round(2)\n",
    "data4"
   ]
  },
  {
   "cell_type": "code",
   "execution_count": 574,
   "metadata": {},
   "outputs": [
    {
     "data": {
      "text/html": [
       "<div>\n",
       "<style scoped>\n",
       "    .dataframe tbody tr th:only-of-type {\n",
       "        vertical-align: middle;\n",
       "    }\n",
       "\n",
       "    .dataframe tbody tr th {\n",
       "        vertical-align: top;\n",
       "    }\n",
       "\n",
       "    .dataframe thead tr th {\n",
       "        text-align: left;\n",
       "    }\n",
       "</style>\n",
       "<table border=\"1\" class=\"dataframe\">\n",
       "  <thead>\n",
       "    <tr>\n",
       "      <th></th>\n",
       "      <th>Churn</th>\n",
       "      <th colspan=\"3\" halign=\"left\">proportion</th>\n",
       "    </tr>\n",
       "    <tr>\n",
       "      <th>Contract</th>\n",
       "      <th></th>\n",
       "      <th>Month-to-month</th>\n",
       "      <th>One year</th>\n",
       "      <th>Two year</th>\n",
       "    </tr>\n",
       "  </thead>\n",
       "  <tbody>\n",
       "    <tr>\n",
       "      <th>0</th>\n",
       "      <td>No</td>\n",
       "      <td>43.87</td>\n",
       "      <td>25.01</td>\n",
       "      <td>31.12</td>\n",
       "    </tr>\n",
       "    <tr>\n",
       "      <th>1</th>\n",
       "      <td>Yes</td>\n",
       "      <td>88.53</td>\n",
       "      <td>8.36</td>\n",
       "      <td>3.11</td>\n",
       "    </tr>\n",
       "  </tbody>\n",
       "</table>\n",
       "</div>"
      ],
      "text/plain": [
       "         Churn     proportion                  \n",
       "Contract       Month-to-month One year Two year\n",
       "0           No          43.87    25.01    31.12\n",
       "1          Yes          88.53     8.36     3.11"
      ]
     },
     "execution_count": 574,
     "metadata": {},
     "output_type": "execute_result"
    }
   ],
   "source": [
    "column_index=[0,1]\n",
    "data4=data_1.iloc[:,column_index]\n",
    "data4=data4.groupby(['Churn','Contract'])\n",
    "data4=data4.size()\n",
    "data4=pd.Series.to_frame(data4)\n",
    "data4=data4.reset_index()\n",
    "data4_1=data4.iloc[0:3,2].sum()\n",
    "data4_2=data4.iloc[3:,2].sum()\n",
    "data4['total']=[int(data4_1),int(data4_1),int(data4_1),int(data4_2),int(data4_2),int(data4_2)]\n",
    "ratio=100*data4[0]/data4['total']\n",
    "data4['proportion']=ratio\n",
    "data4=pd.pivot_table(data4, index='Churn',columns='Contract')\n",
    "data4=data4.iloc[:,6:]\n",
    "data4=data4.reset_index('Churn')\n",
    "data4.round(2)"
   ]
  },
  {
   "cell_type": "code",
   "execution_count": 138,
   "metadata": {},
   "outputs": [
    {
     "data": {
      "text/html": [
       "<div>\n",
       "<style scoped>\n",
       "    .dataframe tbody tr th:only-of-type {\n",
       "        vertical-align: middle;\n",
       "    }\n",
       "\n",
       "    .dataframe tbody tr th {\n",
       "        vertical-align: top;\n",
       "    }\n",
       "\n",
       "    .dataframe thead th {\n",
       "        text-align: right;\n",
       "    }\n",
       "</style>\n",
       "<table border=\"1\" class=\"dataframe\">\n",
       "  <thead>\n",
       "    <tr style=\"text-align: right;\">\n",
       "      <th></th>\n",
       "      <th>feature</th>\n",
       "      <th>value</th>\n",
       "    </tr>\n",
       "  </thead>\n",
       "  <tbody>\n",
       "    <tr>\n",
       "      <th>0</th>\n",
       "      <td>TotalCharges</td>\n",
       "      <td>0.646</td>\n",
       "    </tr>\n",
       "  </tbody>\n",
       "</table>\n",
       "</div>"
      ],
      "text/plain": [
       "        feature  value\n",
       "0  TotalCharges  0.646"
      ]
     },
     "execution_count": 138,
     "metadata": {},
     "output_type": "execute_result"
    }
   ],
   "source": [
    "#Q1.5\n",
    "data5=data_1.corrwith(data_1['MonthlyCharges']).round(4)\n",
    "data5=pd.DataFrame({'feature':['TotalCharges'],'value':[0.6460]})\n",
    "data5"
   ]
  },
  {
   "cell_type": "code",
   "execution_count": 209,
   "metadata": {},
   "outputs": [
    {
     "data": {
      "text/html": [
       "<div>\n",
       "<style scoped>\n",
       "    .dataframe tbody tr th:only-of-type {\n",
       "        vertical-align: middle;\n",
       "    }\n",
       "\n",
       "    .dataframe tbody tr th {\n",
       "        vertical-align: top;\n",
       "    }\n",
       "\n",
       "    .dataframe thead th {\n",
       "        text-align: right;\n",
       "    }\n",
       "</style>\n",
       "<table border=\"1\" class=\"dataframe\">\n",
       "  <thead>\n",
       "    <tr style=\"text-align: right;\">\n",
       "      <th></th>\n",
       "      <th>Tenure</th>\n",
       "    </tr>\n",
       "  </thead>\n",
       "  <tbody>\n",
       "    <tr>\n",
       "      <th>count</th>\n",
       "      <td>2587.000000</td>\n",
       "    </tr>\n",
       "    <tr>\n",
       "      <th>mean</th>\n",
       "      <td>37.078856</td>\n",
       "    </tr>\n",
       "    <tr>\n",
       "      <th>std</th>\n",
       "      <td>24.238726</td>\n",
       "    </tr>\n",
       "    <tr>\n",
       "      <th>min</th>\n",
       "      <td>0.000000</td>\n",
       "    </tr>\n",
       "    <tr>\n",
       "      <th>25%</th>\n",
       "      <td>14.000000</td>\n",
       "    </tr>\n",
       "    <tr>\n",
       "      <th>50%</th>\n",
       "      <td>37.000000</td>\n",
       "    </tr>\n",
       "    <tr>\n",
       "      <th>75%</th>\n",
       "      <td>60.500000</td>\n",
       "    </tr>\n",
       "    <tr>\n",
       "      <th>max</th>\n",
       "      <td>72.000000</td>\n",
       "    </tr>\n",
       "  </tbody>\n",
       "</table>\n",
       "</div>"
      ],
      "text/plain": [
       "            Tenure\n",
       "count  2587.000000\n",
       "mean     37.078856\n",
       "std      24.238726\n",
       "min       0.000000\n",
       "25%      14.000000\n",
       "50%      37.000000\n",
       "75%      60.500000\n",
       "max      72.000000"
      ]
     },
     "execution_count": 209,
     "metadata": {},
     "output_type": "execute_result"
    }
   ],
   "source": [
    "#Q1.6\n",
    "data6=data_1[data_1.Churn!='Yes']\n",
    "data6=data6.Tenure.describe()\n",
    "pd.Series.to_frame(data6)"
   ]
  },
  {
   "cell_type": "code",
   "execution_count": 530,
   "metadata": {},
   "outputs": [
    {
     "data": {
      "text/html": [
       "<div>\n",
       "<style scoped>\n",
       "    .dataframe tbody tr th:only-of-type {\n",
       "        vertical-align: middle;\n",
       "    }\n",
       "\n",
       "    .dataframe tbody tr th {\n",
       "        vertical-align: top;\n",
       "    }\n",
       "\n",
       "    .dataframe thead th {\n",
       "        text-align: right;\n",
       "    }\n",
       "</style>\n",
       "<table border=\"1\" class=\"dataframe\">\n",
       "  <thead>\n",
       "    <tr style=\"text-align: right;\">\n",
       "      <th></th>\n",
       "      <th>Gender</th>\n",
       "      <th>addon_deviceprotection</th>\n",
       "      <th>addon_onlinebackup</th>\n",
       "    </tr>\n",
       "  </thead>\n",
       "  <tbody>\n",
       "    <tr>\n",
       "      <th>0</th>\n",
       "      <td>Female</td>\n",
       "      <td>34.0703</td>\n",
       "      <td>34.6372</td>\n",
       "    </tr>\n",
       "    <tr>\n",
       "      <th>1</th>\n",
       "      <td>Male</td>\n",
       "      <td>33.3523</td>\n",
       "      <td>33.0108</td>\n",
       "    </tr>\n",
       "  </tbody>\n",
       "</table>\n",
       "</div>"
      ],
      "text/plain": [
       "   Gender  addon_deviceprotection  addon_onlinebackup\n",
       "0  Female                 34.0703             34.6372\n",
       "1    Male                 33.3523             33.0108"
      ]
     },
     "execution_count": 530,
     "metadata": {},
     "output_type": "execute_result"
    }
   ],
   "source": [
    "#Q1.7\n",
    "column=[4,3,8,9,15,16,17]\n",
    "data7=data_1.iloc[:,column]\n",
    "data7=data7.groupby(['Gender','DeviceProtection'])\n",
    "data7=data7.size()\n",
    "data7=pd.Series.to_frame(data7)\n",
    "data7=data7.reset_index()\n",
    "data8=data7.iloc[0:3,2].sum()\n",
    "data9=data7.iloc[3:,2].sum()\n",
    "row_index=[2,5]\n",
    "data10=data7.loc[row_index,:]\n",
    "data10['total']=[int(data8),int(data9)]\n",
    "ratio=100*data10[0]/data10['total']\n",
    "data10['addon_deviceprotection']=ratio\n",
    "column_index=[0,4]\n",
    "data10=data10.iloc[:,column_index]\n",
    "\n",
    "column=[4,3,8,9,15,16,17]\n",
    "data7=data_1.iloc[:,column]\n",
    "data11=data7.groupby(['Gender','OnlineBackup'])\n",
    "data11=data11.size()\n",
    "data11=pd.Series.to_frame(data11)\n",
    "data11=data11.reset_index()\n",
    "data12=data11.iloc[0:3,2].sum()\n",
    "data13=data11.iloc[3:,2].sum()\n",
    "row_index=[2,5]\n",
    "data14=data11.loc[row_index,:]\n",
    "data14['total']=[int(data12),int(data13)]\n",
    "ratio=100*data14[0]/data14['total']\n",
    "data14['addon_onlinebackup']=ratio\n",
    "column_index=[0,4]\n",
    "data14=data14.iloc[:,column_index]\n",
    "\n",
    "data15=data10.merge(data14)\n",
    "data15.round(4)"
   ]
  },
  {
   "cell_type": "code",
   "execution_count": null,
   "metadata": {},
   "outputs": [],
   "source": [
    "#Q1.8\n"
   ]
  },
  {
   "cell_type": "code",
   "execution_count": null,
   "metadata": {},
   "outputs": [],
   "source": []
  },
  {
   "cell_type": "code",
   "execution_count": null,
   "metadata": {},
   "outputs": [],
   "source": []
  },
  {
   "cell_type": "code",
   "execution_count": 512,
   "metadata": {},
   "outputs": [],
   "source": []
  },
  {
   "cell_type": "code",
   "execution_count": null,
   "metadata": {},
   "outputs": [],
   "source": []
  },
  {
   "cell_type": "code",
   "execution_count": null,
   "metadata": {},
   "outputs": [],
   "source": []
  },
  {
   "cell_type": "code",
   "execution_count": null,
   "metadata": {},
   "outputs": [],
   "source": []
  }
 ],
 "metadata": {
  "kernelspec": {
   "display_name": "Python 3",
   "language": "python",
   "name": "python3"
  },
  "language_info": {
   "codemirror_mode": {
    "name": "ipython",
    "version": 3
   },
   "file_extension": ".py",
   "mimetype": "text/x-python",
   "name": "python",
   "nbconvert_exporter": "python",
   "pygments_lexer": "ipython3",
   "version": "3.6.5"
  }
 },
 "nbformat": 4,
 "nbformat_minor": 2
}
